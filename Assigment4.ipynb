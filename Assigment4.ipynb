{
 "cells": [
  {
   "cell_type": "code",
   "execution_count": 3,
   "id": "f20cc215-ba42-4e2a-8e6b-f02a26e62117",
   "metadata": {},
   "outputs": [
    {
     "name": "stdout",
     "output_type": "stream",
     "text": [
      "('computer science', 9254988426, 'student123@gmail.com', 'rafiganj aurangabad bihar')\n"
     ]
    }
   ],
   "source": [
    "'''[Q1-answer:-]'''\n",
    "\n",
    "# Explain Class and Object with respect to Object-Oriented Programming. Give a suitable example.\n",
    "'''\n",
    "-> Class:- A blueprint of objects. A class is user defined type that describes what a certain type of object will look like. A\n",
    "           description consists of a declaration and a definition. Usually these pieces are split into seperate files.\n",
    "\n",
    "-> Object:-An object is a single instance of a class. You can create many objects from the same class type.'''\n",
    "\n",
    "class student:\n",
    "    def __init__(self,Branch,phone_number,email_id,address):\n",
    "        self.Branch = Branch\n",
    "        self.phone_number = phone_number\n",
    "        self.email_id = email_id\n",
    "        self.address = address\n",
    "    def student_detail(self):\n",
    "        return self.Branch, self.phone_number,self.email_id, self.address\n",
    "rohit=student(\"computer science\",9254988426,\"student123@gmail.com\",\"rafiganj aurangabad bihar\")\n",
    "print(rohit.student_detail())"
   ]
  },
  {
   "cell_type": "code",
   "execution_count": null,
   "id": "c7a37439-16cd-4620-9e2f-b45577e251c6",
   "metadata": {},
   "outputs": [],
   "source": [
    "'''[Q2-answer:-]'''\n",
    "\n",
    "#Name the four pillars of OOPs.\n",
    "'''\n",
    "The four pillar of oops(object oriented programing language)\n",
    "1) Polymorphism\n",
    "2) Encapsulation\n",
    "3) Inheritance\n",
    "4) Data abstraction\n",
    "'''"
   ]
  },
  {
   "cell_type": "code",
   "execution_count": null,
   "id": "8ccd928f-025a-4adb-baaf-20f871a9a252",
   "metadata": {},
   "outputs": [],
   "source": [
    "'''[Q3-answer:-]'''\n",
    "\n",
    "#Explain why the __init__() function is used. Give a suitable example.\n",
    "\n",
    "''' The method lets the class initialize the object's attributes and serves no other purpose. it is only used within classes.'''\n",
    "\n",
    "class student:\n",
    "    def __init__(self,Branch,phone_number,email_id,address):\n",
    "        self.Branch = Branch\n",
    "        self.phone_number = phone_number\n",
    "        self.email_id = email_id\n",
    "        self.address = address\n",
    "    def student_detail(self):\n",
    "        return self.Branch, self.phone_number,self.email_id, self.address\n",
    "rohit=student(\"computer science\",9254988426,\"student123@gmail.com\",\"rafiganj aurangabad bihar\")\n",
    "print(rohit.student_detail())"
   ]
  },
  {
   "cell_type": "code",
   "execution_count": null,
   "id": "62f7e6a4-03b5-4891-920b-a87ff098dd25",
   "metadata": {},
   "outputs": [],
   "source": [
    "'''[Q4-answer:-]'''\n",
    "\n",
    "# Why self is used in OOPs?\n",
    "\n",
    "''' self represents the instance of class. This handy keyword allows you to access variables, attributes,\n",
    "    and methods of a defined calss in python.'''\n"
   ]
  },
  {
   "cell_type": "code",
   "execution_count": 1,
   "id": "ae375ab9-8308-4d37-a6a8-b607e96864a6",
   "metadata": {},
   "outputs": [
    {
     "name": "stdout",
     "output_type": "stream",
     "text": [
      "calling parent class\n",
      "calling child class\n"
     ]
    }
   ],
   "source": [
    "'''[Q5-answer:-]'''\n",
    "\n",
    "# What is inheritance? Give an example for each type of inheritance.\n",
    "''' Inheritance allows us to define a class that inherits all the methods and properties from another class.\n",
    "\n",
    "there are five types of inheritances:\n",
    "1) Single Inheritance\n",
    "2) Multiple Inheritance\n",
    "3) Multilevel Inheritance\n",
    "4) Hierarchical Inheritance.\n",
    "5) Hybrid Inheritance\n",
    "'''\n",
    "\n",
    "class parent:\n",
    "    def myfun_p(self):\n",
    "        print(\"calling parent class\")\n",
    "class child(parent):\n",
    "    def myfun_c(self):\n",
    "        print(\"calling child class\")\n",
    "obj =child()\n",
    "\n",
    "print(obj.myfun_p())\n",
    "print(obj.myfun_c())\n",
    "    "
   ]
  },
  {
   "cell_type": "code",
   "execution_count": null,
   "id": "f96136ad-3634-414c-af63-75fb55c6991d",
   "metadata": {},
   "outputs": [],
   "source": []
  }
 ],
 "metadata": {
  "kernelspec": {
   "display_name": "Python 3 (ipykernel)",
   "language": "python",
   "name": "python3"
  },
  "language_info": {
   "codemirror_mode": {
    "name": "ipython",
    "version": 3
   },
   "file_extension": ".py",
   "mimetype": "text/x-python",
   "name": "python",
   "nbconvert_exporter": "python",
   "pygments_lexer": "ipython3",
   "version": "3.10.8"
  }
 },
 "nbformat": 4,
 "nbformat_minor": 5
}
